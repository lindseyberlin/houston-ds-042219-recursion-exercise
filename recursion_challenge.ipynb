{
 "cells": [
  {
   "cell_type": "markdown",
   "metadata": {},
   "source": [
    "# Coding Challenge: Recursion\n",
    "\n",
    "1) construct a recursive function to calculate powers of 3\n",
    "e.g. 3^4 = 81\n",
    "\n",
    "\n"
   ]
  },
  {
   "cell_type": "code",
   "execution_count": 7,
   "metadata": {},
   "outputs": [],
   "source": [
    "def power_3_rec(power):\n",
    "    if power == 1:\n",
    "        return 3\n",
    "    else:\n",
    "        return 3 * power_3_rec(power - 1)"
   ]
  },
  {
   "cell_type": "markdown",
   "metadata": {},
   "source": [
    "3 *\n",
    "    3 *\n",
    "        3 *\n",
    "            3 *"
   ]
  },
  {
   "cell_type": "code",
   "execution_count": 8,
   "metadata": {
    "scrolled": true
   },
   "outputs": [
    {
     "name": "stdout",
     "output_type": "stream",
     "text": [
      "6\n",
      "5\n",
      "4\n",
      "3\n",
      "2\n"
     ]
    },
    {
     "data": {
      "text/plain": [
       "729"
      ]
     },
     "execution_count": 8,
     "metadata": {},
     "output_type": "execute_result"
    }
   ],
   "source": [
    "power_3_rec(6)"
   ]
  },
  {
   "cell_type": "markdown",
   "metadata": {},
   "source": [
    "2) [optional] create a recursive function - the egg dropping problem [very hard!!] - no need to finish just start a skeleton\n",
    "\n",
    "### Problem : We have N number of stories and M number of eggs. How do we find the minimum number of drops needed to determine from which floors it is safe to drop an egg?\n",
    "\n",
    "We make a few assumptions:\n",
    "- An egg that survives a fall can be used again.\n",
    "- A broken egg must be discarded.\n",
    "- The effect of a fall is the same for all eggs.\n",
    "- If an egg breaks when dropped, then it would break if dropped from a higher floor.\n",
    "- If an egg survives a fall then it would survive a shorter fall."
   ]
  },
  {
   "cell_type": "code",
   "execution_count": 2,
   "metadata": {},
   "outputs": [],
   "source": [
    "def egg_test(stories, eggs):\n",
    "    num_test = 1\n",
    "    if num_test <= eggs:\n",
    "        "
   ]
  },
  {
   "cell_type": "code",
   "execution_count": null,
   "metadata": {},
   "outputs": [],
   "source": []
  },
  {
   "cell_type": "code",
   "execution_count": null,
   "metadata": {},
   "outputs": [],
   "source": []
  }
 ],
 "metadata": {
  "kernelspec": {
   "display_name": "Python 3",
   "language": "python",
   "name": "python3"
  },
  "language_info": {
   "codemirror_mode": {
    "name": "ipython",
    "version": 3
   },
   "file_extension": ".py",
   "mimetype": "text/x-python",
   "name": "python",
   "nbconvert_exporter": "python",
   "pygments_lexer": "ipython3",
   "version": "3.7.3"
  }
 },
 "nbformat": 4,
 "nbformat_minor": 2
}
